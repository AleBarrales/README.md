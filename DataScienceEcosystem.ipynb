{
  "cells": [
    {
      "cell_type": "markdown",
      "metadata": {
        "id": "81li1ujBCnps"
      },
      "source": [
        "<center>\n",
        "    <img src=\"https://cf-courses-data.s3.us.cloud-object-storage.appdomain.cloud/IBMDeveloperSkillsNetwork-DS0105EN-SkillsNetwork/labs/Module2/images/SN_web_lightmode.png\" width=\"300\" alt=\"cognitiveclass.ai logo\">\n",
        "</center>\n"
      ]
    },
    {
      "cell_type": "markdown",
      "metadata": {
        "id": "ttzwMDBRCnpu"
      },
      "source": [
        "# Data Science Tools and Ecosystem"
      ]
    },
    {
      "cell_type": "markdown",
      "metadata": {
        "id": "eWBQBZunCnpu"
      },
      "source": [
        "En este cuaderno, se resumen las herramientas y ecosistemas de ciencia de datos."
      ]
    },
    {
      "cell_type": "markdown",
      "metadata": {
        "id": "1sZ_cVMFCnpu"
      },
      "source": [
        "**Objetivos:**  \n",
        "\n",
        "- Listar lenguajes populares para Ciencia de Datos.  \n",
        "- Identificar herramientas de desarrollo utilizadas en Ciencia de Datos.  \n",
        "- Evaluar expresiones aritméticas en Python.  \n",
        "- Convertir unidades de tiempo utilizando Python.  \n",
        "- Comprender el uso básico de Markdown en Jupyter Notebooks.  \n"
      ]
    },
    {
      "cell_type": "markdown",
      "metadata": {
        "id": "ugEBCFKjCnpv"
      },
      "source": [
        "Los lenguajes mas utilizados para ciencia de datos son los siguiente:\n",
        "1. Python\n",
        "2. R\n",
        "3. SQL\n",
        "4. JULIA\n",
        "5. Java Script"
      ]
    },
    {
      "cell_type": "markdown",
      "metadata": {
        "id": "gUeblH2rCnpv"
      },
      "source": [
        "Algunas de las bibliotecas comúnmente utilizadas por los científicos de datos incluyen:\n",
        "1. NumPy\n",
        "2. TensorFlow\n",
        "3. Matplotlib\n",
        "4. Seaborn\n",
        "5. Pandas"
      ]
    },
    {
      "cell_type": "markdown",
      "metadata": {
        "id": "9s5APg4rCnpv"
      },
      "source": [
        "| Herramientas de Ciencia de Datos |\n",
        "|----------------------------------|\n",
        "| Jupyter Notebook                 |\n",
        "| RStudio                          |\n",
        "| Apache Spark                     |\n"
      ]
    },
    {
      "cell_type": "markdown",
      "metadata": {
        "id": "UiRTo1F5Cnpv"
      },
      "source": [
        "### A continuación se muestran algunos ejemplos de evaluación de expresiones aritméticas en Python."
      ]
    },
    {
      "cell_type": "code",
      "execution_count": 3,
      "metadata": {
        "colab": {
          "base_uri": "https://localhost:8080/"
        },
        "id": "3eDi1JOJCnpv",
        "outputId": "0af24790-9430-4a41-db02-772ed65b8ce4"
      },
      "outputs": [
        {
          "output_type": "execute_result",
          "data": {
            "text/plain": [
              "17"
            ]
          },
          "metadata": {},
          "execution_count": 3
        }
      ],
      "source": [
        "#Esta es una expresión aritmética simple para multiplicar y luego sumar números enteros.\n",
        "(3 * 4) + 5"
      ]
    },
    {
      "cell_type": "code",
      "execution_count": 4,
      "metadata": {
        "colab": {
          "base_uri": "https://localhost:8080/"
        },
        "id": "h4NLsf8iCnpw",
        "outputId": "ededf2a1-bfd5-4b6d-fbee-7055ee246a5c"
      },
      "outputs": [
        {
          "output_type": "execute_result",
          "data": {
            "text/plain": [
              "3.3333333333333335"
            ]
          },
          "metadata": {},
          "execution_count": 4
        }
      ],
      "source": [
        "#Esto convertirá 200 minutos en horas sumergiéndote 60\n",
        "200 / 60"
      ]
    },
    {
      "cell_type": "markdown",
      "metadata": {
        "id": "_bRwXLlyCnpw"
      },
      "source": [
        "## Autora\n",
        "\n",
        "Alejandra Barrales Guerrero\n"
      ]
    },
    {
      "cell_type": "code",
      "execution_count": null,
      "metadata": {
        "id": "vIFhdED4Cnpw"
      },
      "outputs": [],
      "source": []
    }
  ],
  "metadata": {
    "kernelspec": {
      "display_name": "Python 3",
      "language": "python",
      "name": "python3"
    },
    "language_info": {
      "codemirror_mode": {
        "name": "ipython",
        "version": 3
      },
      "file_extension": ".py",
      "mimetype": "text/x-python",
      "name": "python",
      "nbconvert_exporter": "python",
      "pygments_lexer": "ipython3",
      "version": "3.11.1"
    },
    "colab": {
      "provenance": []
    }
  },
  "nbformat": 4,
  "nbformat_minor": 0
}